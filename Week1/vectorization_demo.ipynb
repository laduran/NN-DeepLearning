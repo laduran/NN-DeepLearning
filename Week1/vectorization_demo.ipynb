{
 "cells": [
  {
   "cell_type": "markdown",
   "metadata": {},
   "source": [
    "From the Coursera course [Neural Networks and Deep Learning](https://www.coursera.org/learn/neural-networks-deep-learning/)\n",
    "\n",
    "Week 2 Vectorization is much faster with Numpy"
   ]
  },
  {
   "cell_type": "code",
   "execution_count": 1,
   "metadata": {},
   "outputs": [
    {
     "data": {
      "text/plain": [
       "array([1, 2, 3, 4])"
      ]
     },
     "execution_count": 1,
     "metadata": {},
     "output_type": "execute_result"
    }
   ],
   "source": [
    "import numpy as np\n",
    "\n",
    "a = np.array([1,2,3,4])\n",
    "a"
   ]
  },
  {
   "cell_type": "code",
   "execution_count": 9,
   "metadata": {},
   "outputs": [
    {
     "name": "stdout",
     "output_type": "stream",
     "text": [
      "Vector version: 0.0019903182983398438ms\n",
      "For-loop version: 0.1814262866973877ms\n"
     ]
    }
   ],
   "source": [
    "import time\n",
    "import numpy as np\n",
    "\n",
    "a = np.random.rand(1000000)\n",
    "b = np.random.rand(1000000)\n",
    "\n",
    "tic = time.time()\n",
    "# Make use of numpy vectorization\n",
    "c = np.dot(a, b)\n",
    "toc = time.time()\n",
    "print('Vector version: ' + str(toc-tic)+'ms')\n",
    "\n",
    "c = 0\n",
    "tic = time.time()\n",
    "# For-loop version will be a lot slower\n",
    "for i in range(1000000):\n",
    "    c += a[i]*b[i]\n",
    "toc = time.time()\n",
    "print('For-loop version: ' + str(toc-tic)+'ms')"
   ]
  },
  {
   "cell_type": "code",
   "execution_count": 10,
   "metadata": {},
   "outputs": [
    {
     "name": "stdout",
     "output_type": "stream",
     "text": [
      "For-loop version: 0.18451380729675293ms\n",
      "Vector version: 0.0029985904693603516ms\n"
     ]
    }
   ],
   "source": [
    "import math\n",
    "\n",
    "n = 500000\n",
    "v = np.random.rand(n)\n",
    "u = np.zeros((n,1))\n",
    "tic = time.time()\n",
    "for i in range(n):\n",
    "    u[i] = math.exp(v[i])\n",
    "toc = time.time()\n",
    "print('For-loop version: ' + str(toc-tic)+'ms')\n",
    "\n",
    "tic = time.time()\n",
    "u = np.exp(v)\n",
    "toc = time.time()\n",
    "print('Vector version: ' + str(toc-tic)+'ms')"
   ]
  }
 ],
 "metadata": {
  "kernelspec": {
   "display_name": "Python 3",
   "language": "python",
   "name": "python3"
  },
  "language_info": {
   "codemirror_mode": {
    "name": "ipython",
    "version": 3
   },
   "file_extension": ".py",
   "mimetype": "text/x-python",
   "name": "python",
   "nbconvert_exporter": "python",
   "pygments_lexer": "ipython3",
   "version": "3.11.6"
  }
 },
 "nbformat": 4,
 "nbformat_minor": 2
}
