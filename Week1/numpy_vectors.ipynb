{
 "cells": [
  {
   "cell_type": "markdown",
   "metadata": {},
   "source": [
    "From the Coursera course [Neural Networks and Deep Learning](https://www.coursera.org/learn/neural-networks-deep-learning/)\n",
    "\n",
    "Week 2 Video = [A Note on Numpy Vectors](https://www.coursera.org/learn/neural-networks-deep-learning/lecture/87MUx/a-note-on-python-numpy-vectors)"
   ]
  },
  {
   "cell_type": "code",
   "execution_count": 3,
   "metadata": {},
   "outputs": [
    {
     "name": "stdout",
     "output_type": "stream",
     "text": [
      "[-0.51534142  0.82573975 -1.54399858 -0.35402755  0.25181498]\n",
      "[-0.51534142  0.82573975 -1.54399858 -0.35402755  0.25181498]\n",
      "3.5201008318786475\n"
     ]
    }
   ],
   "source": [
    "import numpy as np\n",
    "\n",
    "a = np.random.randn(5)\n",
    "print(a)\n",
    "print(a.T)  # Weird! A and A^T the same\n",
    "print(np.dot(a, a.T)) # Even more weird we get a scalar per Andre Ng\n",
    "                      # (Mathemetically that's not that weird since dot product is a scalar result)"
   ]
  },
  {
   "cell_type": "code",
   "execution_count": 4,
   "metadata": {},
   "outputs": [
    {
     "name": "stdout",
     "output_type": "stream",
     "text": [
      "a = [[-0.58973703]\n",
      " [ 0.5257175 ]\n",
      " [ 0.65971669]\n",
      " [-0.03530906]\n",
      " [-0.18796872]]\n",
      "a^T = [[-0.58973703  0.5257175   0.65971669 -0.03530906 -0.18796872]]\n",
      "Product a * a.T= [[ 0.34778977 -0.31003508 -0.38905937  0.02082306  0.11085211]\n",
      " [-0.31003508  0.27637889  0.34682461 -0.01856259 -0.09881844]\n",
      " [-0.38905937  0.34682461  0.43522612 -0.02329397 -0.1240061 ]\n",
      " [ 0.02082306 -0.01856259 -0.02329397  0.00124673  0.006637  ]\n",
      " [ 0.11085211 -0.09881844 -0.1240061   0.006637    0.03533224]]\n",
      "[-0.69610714  0.70087627 -0.1102445   0.32234719  0.34376222  0.23659599\n",
      "  0.62856923  0.92098802 -0.51833548  0.64090774]\n"
     ]
    }
   ],
   "source": [
    "# Instead use as suggested by Andrew Ng\n",
    "\n",
    "a = np.random.randn(5,1)\n",
    "print(f'a = {a}')\n",
    "print(f'a^T = {a.T}')\n",
    "print(f'Product a * a.T= {np.dot(a, a.T)}')  #\n",
    "\n",
    "# call assert if you need it.\n",
    "assert(a.shape == (5,1)) # This will not assert\n",
    "#\n",
    "b = np.random.randn(10,)\n",
    "print(b)"
   ]
  },
  {
   "cell_type": "markdown",
   "metadata": {},
   "source": [
    "Start of QUIZ scratchpad"
   ]
  },
  {
   "cell_type": "code",
   "execution_count": 16,
   "metadata": {},
   "outputs": [
    {
     "name": "stdout",
     "output_type": "stream",
     "text": [
      "(3072, 1)\n"
     ]
    }
   ],
   "source": [
    "img = np.random.randn(32,32,3)\n",
    "#print(img)\n",
    "\n",
    "x = img.reshape(32*32*3, 1)\n",
    "print(x.shape)"
   ]
  },
  {
   "cell_type": "code",
   "execution_count": 20,
   "metadata": {},
   "outputs": [
    {
     "ename": "ValueError",
     "evalue": "operands could not be broadcast together with shapes (4,3) (3,2) ",
     "output_type": "error",
     "traceback": [
      "\u001b[1;31m---------------------------------------------------------------------------\u001b[0m",
      "\u001b[1;31mValueError\u001b[0m                                Traceback (most recent call last)",
      "\u001b[1;32md:\\OneDrive\\dev\\Coursera\\NN+DeepLearning\\numpy_vectors.ipynb Cell 6\u001b[0m line \u001b[0;36m9\n\u001b[0;32m      <a href='vscode-notebook-cell:/d%3A/OneDrive/dev/Coursera/NN%2BDeepLearning/numpy_vectors.ipynb#W4sZmlsZQ%3D%3D?line=6'>7</a>\u001b[0m a \u001b[39m=\u001b[39m np\u001b[39m.\u001b[39mrandom\u001b[39m.\u001b[39mrandn(\u001b[39m4\u001b[39m,\u001b[39m3\u001b[39m)\n\u001b[0;32m      <a href='vscode-notebook-cell:/d%3A/OneDrive/dev/Coursera/NN%2BDeepLearning/numpy_vectors.ipynb#W4sZmlsZQ%3D%3D?line=7'>8</a>\u001b[0m b \u001b[39m=\u001b[39m np\u001b[39m.\u001b[39mrandom\u001b[39m.\u001b[39mrandn(\u001b[39m3\u001b[39m,\u001b[39m2\u001b[39m)\n\u001b[1;32m----> <a href='vscode-notebook-cell:/d%3A/OneDrive/dev/Coursera/NN%2BDeepLearning/numpy_vectors.ipynb#W4sZmlsZQ%3D%3D?line=8'>9</a>\u001b[0m c \u001b[39m=\u001b[39m a \u001b[39m*\u001b[39;49m b\n\u001b[0;32m     <a href='vscode-notebook-cell:/d%3A/OneDrive/dev/Coursera/NN%2BDeepLearning/numpy_vectors.ipynb#W4sZmlsZQ%3D%3D?line=9'>10</a>\u001b[0m \u001b[39mprint\u001b[39m (c\u001b[39m.\u001b[39mshape)\n",
      "\u001b[1;31mValueError\u001b[0m: operands could not be broadcast together with shapes (4,3) (3,2) "
     ]
    }
   ],
   "source": [
    "# a = np.random.randn(3,3)\n",
    "# b = np.random.randn(2,1)\n",
    "# c = a + b\n",
    "# print (c.shape)\n",
    "\n",
    "\n",
    "a = np.random.randn(4,3)\n",
    "b = np.random.randn(3,2)\n",
    "c = a * b\n",
    "print (c.shape)\n"
   ]
  },
  {
   "cell_type": "code",
   "execution_count": 15,
   "metadata": {},
   "outputs": [
    {
     "name": "stdout",
     "output_type": "stream",
     "text": [
      "[[1 9 4]\n",
      " [8 3 9]\n",
      " [2 0 9]]\n",
      "[[2]\n",
      " [2]\n",
      " [9]]\n",
      "(3, 3)\n",
      "[[ 2 18  8]\n",
      " [16  6 18]\n",
      " [18  0 81]]\n"
     ]
    }
   ],
   "source": [
    "a = np.random.randint(0, 10, (3,3))\n",
    "b = np.random.randint(0, 10, (3,1))\n",
    "print(a)\n",
    "print(b)\n",
    "c = a * b\n",
    "print (c.shape)\n",
    "print(c)"
   ]
  },
  {
   "cell_type": "code",
   "execution_count": 21,
   "metadata": {},
   "outputs": [
    {
     "name": "stdout",
     "output_type": "stream",
     "text": [
      "[[ 5  5]\n",
      " [ 5 10]]\n"
     ]
    }
   ],
   "source": [
    "a = np.array([[2,1], [1,3]])\n",
    "\n",
    "b = np.dot(a, a)\n",
    "\n",
    "print(b)"
   ]
  },
  {
   "cell_type": "code",
   "execution_count": 24,
   "metadata": {},
   "outputs": [
    {
     "data": {
      "text/plain": [
       "array([[3, 3],\n",
       "       [4, 2]])"
      ]
     },
     "execution_count": 24,
     "metadata": {},
     "output_type": "execute_result"
    }
   ],
   "source": [
    "a = np.array([[1,1], [1,-1]])\n",
    "b = np.array([[2],[3]])\n",
    "\n",
    "c = a + b\n",
    "c"
   ]
  }
 ],
 "metadata": {
  "kernelspec": {
   "display_name": "Python 3",
   "language": "python",
   "name": "python3"
  },
  "language_info": {
   "codemirror_mode": {
    "name": "ipython",
    "version": 3
   },
   "file_extension": ".py",
   "mimetype": "text/x-python",
   "name": "python",
   "nbconvert_exporter": "python",
   "pygments_lexer": "ipython3",
   "version": "3.11.6"
  }
 },
 "nbformat": 4,
 "nbformat_minor": 2
}
